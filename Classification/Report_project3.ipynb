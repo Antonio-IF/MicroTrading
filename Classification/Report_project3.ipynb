{
 "cells": [
  {
   "cell_type": "code",
   "execution_count": null,
   "metadata": {},
   "outputs": [],
   "source": [
    "# Importar el módulo\n",
    "from backtesting import (\n",
    "    prepare_data_and_models, \n",
    "    run_backtest_with_models, \n",
    "    calculate_benchmark, \n",
    "    plot_portfolio_value\n",
    ")\n",
    "\n",
    "# Preparar datos y modelos\n",
    "(data_aapl_1m_ts, data_aapl_5m_ts, data_btc_1m_ts, data_btc_5m_ts,\n",
    " buy_model_aapl_1m, sell_model_aapl_1m, buy_model_aapl_5m, sell_model_aapl_5m,\n",
    " buy_model_btc_1m, sell_model_btc_1m, buy_model_btc_5m, sell_model_btc_5m) = prepare_data_and_models()\n",
    "\n",
    "# Ejecutar backtesting\n",
    "portfolio_value_aapl_1m = run_backtest_with_models(data_aapl_1m_ts, buy_model_aapl_1m, sell_model_aapl_1m, 1_000_000)\n",
    "portfolio_value_aapl_5m = run_backtest_with_models(data_aapl_5m_ts, buy_model_aapl_5m, sell_model_aapl_5m, 1_000_000)\n",
    "portfolio_value_btc_1m = run_backtest_with_models(data_btc_1m_ts, buy_model_btc_1m, sell_model_btc_1m, 7_500_000)\n",
    "portfolio_value_btc_5m = run_backtest_with_models(data_btc_5m_ts, buy_model_btc_5m, sell_model_btc_5m, 7_500_000)\n",
    "\n",
    "# Benchmark portfolio\n",
    "capital_benchmark_aapl = 1_000_000\n",
    "capital_benchmark_btc = 7_000_000\n",
    "\n",
    "portfolio_value_benchmark_aapl_1m = calculate_benchmark(data_aapl_1m_ts, capital_benchmark_aapl)\n",
    "portfolio_value_benchmark_aapl_5m = calculate_benchmark(data_aapl_5m_ts, capital_benchmark_aapl)\n",
    "portfolio_value_benchmark_btc_1m = calculate_benchmark(data_btc_1m_ts, capital_benchmark_btc)\n",
    "portfolio_value_benchmark_btc_5m = calculate_benchmark(data_btc_5m_ts, capital_benchmark_btc)\n"
   ]
  },
  {
   "cell_type": "markdown",
   "metadata": {},
   "source": [
    "## PORTFOLIO APPLE 1M TEST"
   ]
  },
  {
   "cell_type": "code",
   "execution_count": null,
   "metadata": {},
   "outputs": [],
   "source": [
    "plot_portfolio_value(portfolio_value_aapl_1m, portfolio_value_benchmark_aapl_1m, \n",
    "                     f'AAPL 1M Active={(portfolio_value_aapl_1m[-1] / 1_000_000 - 1) * 100:.2f}%\\n' + \n",
    "                     f'AAPL 1M Passive={(portfolio_value_benchmark_aapl_1m.values[-1] / 1_000_000 - 1) * 100:.2f}%')"
   ]
  },
  {
   "cell_type": "markdown",
   "metadata": {},
   "source": [
    "## PORTFOLIO APPLE 5M TEST "
   ]
  },
  {
   "cell_type": "code",
   "execution_count": null,
   "metadata": {},
   "outputs": [],
   "source": [
    "plot_portfolio_value(portfolio_value_aapl_5m, portfolio_value_benchmark_aapl_5m, \n",
    "                     f'AAPL 5M Active={(portfolio_value_aapl_5m[-1] / 1_000_000 - 1) * 100:.2f}%\\n' + \n",
    "                     f'AAPL 5M Passive={(portfolio_value_benchmark_aapl_5m.values[-1] / 1_000_000 - 1) * 100:.2f}%')"
   ]
  },
  {
   "cell_type": "markdown",
   "metadata": {},
   "source": [
    "## PORTFOLIO BTC 1M TEST"
   ]
  },
  {
   "cell_type": "code",
   "execution_count": null,
   "metadata": {},
   "outputs": [],
   "source": [
    "plot_portfolio_value(portfolio_value_btc_1m, portfolio_value_benchmark_btc_1m, \n",
    "                     f'BTC 1M Active={(portfolio_value_btc_1m[-1] / 7_000_000 - 1) * 100:.2f}%\\n' + \n",
    "                     f'BTC 1M Passive={(portfolio_value_benchmark_btc_1m.values[-1] / 7_000_000 - 1) * 100:.2f}%')"
   ]
  },
  {
   "cell_type": "markdown",
   "metadata": {},
   "source": [
    "## PORTFOLIO BTC 5M TEST "
   ]
  },
  {
   "cell_type": "code",
   "execution_count": null,
   "metadata": {},
   "outputs": [],
   "source": [
    "plot_portfolio_value(portfolio_value_btc_5m, portfolio_value_benchmark_btc_5m, \n",
    "                     f'BTC 5M Active={(portfolio_value_btc_5m[-1] / 7_000_000 - 1) * 100:.2f}%\\n' + \n",
    "                     f'BTC 5M Passive={(portfolio_value_benchmark_btc_5m.values[-1] / 7_5000_000 - 1) * 100:.2f}%')"
   ]
  }
 ],
 "metadata": {
  "language_info": {
   "name": "python"
  }
 },
 "nbformat": 4,
 "nbformat_minor": 2
}
