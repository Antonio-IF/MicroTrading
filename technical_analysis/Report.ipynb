{
 "cells": [
  {
   "cell_type": "markdown",
   "metadata": {},
   "source": [
    "<div class=\"image-container\">\n",
    "  <img class=\"image\" src=\"https://upload.wikimedia.org/wikipedia/commons/2/2d/Logo-ITESO-Vertical-SinFondo-png.png\" width=\"300\" height=\"300\" style=\"float: right\">\n",
    "</div>\n",
    "\n",
    "\n",
    "<p>\n",
    "    <font style = \"font-family:Cambria\">          \n",
    "    <h2><font color=\"#191970\" size = 6 >\n",
    "        002 Technical Analysis\n",
    "    </font></h2>         \n",
    "    <br>         \n",
    "    <font color='navy' size = 6>Project 2. </font>\n",
    "    <br> \n",
    "    <h3><font size =4>Collaborators:</font></h3> \n",
    "    <ul>\n",
    "        <li>Ana Sofia Brizuela Casarin</li>\n",
    "        <li>Samuel Alejandro Perez Avalos</li>\n",
    "        <li>Juan Antonio Mugica Liparoli</li>\n",
    "    </ul>               \n",
    "    </font>\n",
    "</p>"
   ]
  },
  {
   "cell_type": "markdown",
   "metadata": {},
   "source": []
  },
  {
   "cell_type": "code",
   "execution_count": null,
   "metadata": {},
   "outputs": [],
   "source": [
    "\n"
   ]
  },
  {
   "cell_type": "code",
   "execution_count": null,
   "metadata": {},
   "outputs": [],
   "source": []
  }
 ],
 "metadata": {
  "kernelspec": {
   "display_name": "base",
   "language": "python",
   "name": "python3"
  },
  "language_info": {
   "codemirror_mode": {
    "name": "ipython",
    "version": 3
   },
   "file_extension": ".py",
   "mimetype": "text/x-python",
   "name": "python",
   "nbconvert_exporter": "python",
   "pygments_lexer": "ipython3",
   "version": "3.12.3"
  }
 },
 "nbformat": 4,
 "nbformat_minor": 2
}
